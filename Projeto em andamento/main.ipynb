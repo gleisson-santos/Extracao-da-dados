{
 "cells": [
  {
   "cell_type": "code",
   "execution_count": 2,
   "id": "1ee43f6f",
   "metadata": {},
   "outputs": [
    {
     "ename": "ModuleNotFoundError",
     "evalue": "No module named 'funcoes'",
     "output_type": "error",
     "traceback": [
      "\u001b[1;31m---------------------------------------------------------------------------\u001b[0m",
      "\u001b[1;31mModuleNotFoundError\u001b[0m                       Traceback (most recent call last)",
      "\u001b[1;32mC:\\Users\\GLEISS~1.SAN\\AppData\\Local\\Temp/ipykernel_11688/3672240536.py\u001b[0m in \u001b[0;36m<module>\u001b[1;34m\u001b[0m\n\u001b[0;32m      1\u001b[0m \u001b[1;31m# Importação padrão para utilizar o Selenium\u001b[0m\u001b[1;33m\u001b[0m\u001b[1;33m\u001b[0m\u001b[0m\n\u001b[1;32m----> 2\u001b[1;33m \u001b[1;32mimport\u001b[0m \u001b[0mfuncoes\u001b[0m\u001b[1;33m\u001b[0m\u001b[1;33m\u001b[0m\u001b[0m\n\u001b[0m\u001b[0;32m      3\u001b[0m \u001b[1;32mimport\u001b[0m \u001b[0mthreading\u001b[0m\u001b[1;33m\u001b[0m\u001b[1;33m\u001b[0m\u001b[0m\n\u001b[0;32m      4\u001b[0m \u001b[1;33m\u001b[0m\u001b[0m\n\u001b[0;32m      5\u001b[0m \u001b[1;33m\u001b[0m\u001b[0m\n",
      "\u001b[1;31mModuleNotFoundError\u001b[0m: No module named 'funcoes'"
     ]
    }
   ],
   "source": [
    "# Importação padrão para utilizar o Selenium\n",
    "import funcoes\n",
    "import threading\n",
    "\n",
    "\n",
    "filtro = [\n",
    "    \"form-filtroAcss-dlgFilterPrefs-tableUser-37-j_idt349\",\n",
    "    \"form-filtroAcss-dlgFilterPrefs-tableUser-38-j_idt349\"\n",
    "    ]\n",
    "\n",
    "data = funcoes.gerar_datas()\n",
    "\n",
    "x = [\n",
    "    threading.Thread(target=funcoes.definitiva, args=[filtro[0], data]),\n",
    "    threading.Thread(target=funcoes.definitiva, args=[filtro[1], data])\n",
    "     ]\n",
    "\n",
    "i = 0\n",
    "\n",
    "x[0].start()\n",
    "\n",
    "x[1].start()\n",
    "\n"
   ]
  }
 ],
 "metadata": {
  "kernelspec": {
   "display_name": "Python 3 (ipykernel)",
   "language": "python",
   "name": "python3"
  },
  "language_info": {
   "codemirror_mode": {
    "name": "ipython",
    "version": 3
   },
   "file_extension": ".py",
   "mimetype": "text/x-python",
   "name": "python",
   "nbconvert_exporter": "python",
   "pygments_lexer": "ipython3",
   "version": "3.9.7"
  }
 },
 "nbformat": 4,
 "nbformat_minor": 5
}
