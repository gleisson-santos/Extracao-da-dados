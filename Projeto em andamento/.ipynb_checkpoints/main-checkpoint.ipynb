{
 "cells": [
  {
   "cell_type": "code",
   "execution_count": 2,
   "id": "1ee43f6f",
   "metadata": {},
   "outputs": [
    {
     "name": "stdout",
     "output_type": "stream",
     "text": [
      "Por favor digite o mes/ano desejado(mm/aaaa)08/2022\n",
      "\n"
     ]
    },
    {
     "name": "stderr",
     "output_type": "stream",
     "text": [
      "[WDM] - ====== WebDriver manager ======\n"
     ]
    },
    {
     "name": "stdout",
     "output_type": "stream",
     "text": [
      "\n",
      "\n"
     ]
    },
    {
     "name": "stderr",
     "output_type": "stream",
     "text": [
      "[WDM] - ====== WebDriver manager ======\n"
     ]
    },
    {
     "name": "stdout",
     "output_type": "stream",
     "text": [
      "\n",
      "\n"
     ]
    },
    {
     "name": "stderr",
     "output_type": "stream",
     "text": [
      "[WDM] - ====== WebDriver manager ======\n",
      "[WDM] - ====== WebDriver manager ======\n",
      "[WDM] - ====== WebDriver manager ======\n",
      "[WDM] - Current google-chrome version is 103.0.5060\n",
      "[WDM] - Get LATEST chromedriver version for 103.0.5060 google-chrome\n",
      "[WDM] - Current google-chrome version is 103.0.5060\n",
      "[WDM] - Get LATEST chromedriver version for 103.0.5060 google-chrome\n",
      "[WDM] - Current google-chrome version is 103.0.5060\n",
      "[WDM] - Get LATEST chromedriver version for 103.0.5060 google-chrome\n",
      "[WDM] - Current google-chrome version is 103.0.5060\n",
      "[WDM] - Get LATEST chromedriver version for 103.0.5060 google-chrome\n",
      "[WDM] - Current google-chrome version is 103.0.5060\n",
      "[WDM] - Get LATEST chromedriver version for 103.0.5060 google-chrome\n",
      "[WDM] - Driver [C:\\Users\\gleisson.santos\\.wdm\\drivers\\chromedriver\\win32\\103.0.5060.134\\chromedriver.exe] found in cache\n",
      "[WDM] - Driver [C:\\Users\\gleisson.santos\\.wdm\\drivers\\chromedriver\\win32\\103.0.5060.134\\chromedriver.exe] found in cache\n",
      "[WDM] - Driver [C:\\Users\\gleisson.santos\\.wdm\\drivers\\chromedriver\\win32\\103.0.5060.134\\chromedriver.exe] found in cache\n",
      "[WDM] - Driver [C:\\Users\\gleisson.santos\\.wdm\\drivers\\chromedriver\\win32\\103.0.5060.134\\chromedriver.exe] found in cache\n",
      "[WDM] - Driver [C:\\Users\\gleisson.santos\\.wdm\\drivers\\chromedriver\\win32\\103.0.5060.134\\chromedriver.exe] found in cache\n",
      "Exception in thread Thread-14:\n",
      "Traceback (most recent call last):\n",
      "  File \"C:\\Users\\gleisson.santos\\Anaconda3\\lib\\threading.py\", line 973, in _bootstrap_inner\n",
      "    self.run()\n",
      "  File \"C:\\Users\\gleisson.santos\\Anaconda3\\lib\\threading.py\", line 910, in run\n",
      "    self._target(*self._args, **self._kwargs)\n",
      "  File \"C:\\Users\\gleisson.santos\\Desktop\\2 - Projetos Python\\Projeto #1 - Automção SCIWEB\\Projeto #5 - Extrada de planilha\\funcoes.py\", line 117, in definitiva\n",
      "    funcoes.filtro_data(data[0], data[1], driver)\n",
      "  File \"C:\\Users\\gleisson.santos\\Desktop\\2 - Projetos Python\\Projeto #1 - Automção SCIWEB\\Projeto #5 - Extrada de planilha\\funcoes.py\", line 27, in filtro_data\n",
      "    driver.find_element(by=By.ID, value=\"form-filtroAcss-dataId-dataTipo-beginDate\").clear()\n",
      "  File \"C:\\Users\\gleisson.santos\\Anaconda3\\lib\\site-packages\\selenium\\webdriver\\remote\\webdriver.py\", line 1251, in find_element\n",
      "    return self.execute(Command.FIND_ELEMENT, {\n",
      "  File \"C:\\Users\\gleisson.santos\\Anaconda3\\lib\\site-packages\\selenium\\webdriver\\remote\\webdriver.py\", line 430, in execute\n",
      "    self.error_handler.check_response(response)\n",
      "  File \"C:\\Users\\gleisson.santos\\Anaconda3\\lib\\site-packages\\selenium\\webdriver\\remote\\errorhandler.py\", line 247, in check_response\n",
      "    raise exception_class(message, screen, stacktrace)\n",
      "selenium.common.exceptions.NoSuchElementException: Message: no such element: Unable to locate element: {\"method\":\"css selector\",\"selector\":\"[id=\"form-filtroAcss-dataId-dataTipo-beginDate\"]\"}\n",
      "  (Session info: chrome=103.0.5060.134)\n",
      "Stacktrace:\n",
      "Backtrace:\n",
      "\tOrdinal0 [0x00465FD3+2187219]\n",
      "\tOrdinal0 [0x003FE6D1+1763025]\n",
      "\tOrdinal0 [0x00313E78+802424]\n",
      "\tOrdinal0 [0x00341C10+990224]\n",
      "\tOrdinal0 [0x00341EAB+990891]\n",
      "\tOrdinal0 [0x0036EC92+1174674]\n",
      "\tOrdinal0 [0x0035CBD4+1100756]\n",
      "\tOrdinal0 [0x0036CFC2+1167298]\n",
      "\tOrdinal0 [0x0035C9A6+1100198]\n",
      "\tOrdinal0 [0x00336F80+946048]\n",
      "\tOrdinal0 [0x00337E76+949878]\n",
      "\tGetHandleVerifier [0x007090C2+2721218]\n",
      "\tGetHandleVerifier [0x006FAAF0+2662384]\n",
      "\tGetHandleVerifier [0x004F137A+526458]\n",
      "\tGetHandleVerifier [0x004F0416+522518]\n",
      "\tOrdinal0 [0x00404EAB+1789611]\n",
      "\tOrdinal0 [0x004097A8+1808296]\n",
      "\tOrdinal0 [0x00409895+1808533]\n",
      "\tOrdinal0 [0x004126C1+1844929]\n",
      "\tBaseThreadInitThunk [0x7657FA29+25]\n",
      "\tRtlGetAppContainerNamedObjectPath [0x77CE7A9E+286]\n",
      "\tRtlGetAppContainerNamedObjectPath [0x77CE7A6E+238]\n",
      "\n"
     ]
    },
    {
     "name": "stdout",
     "output_type": "stream",
     "text": [
      "Sem chances!\n"
     ]
    },
    {
     "name": "stderr",
     "output_type": "stream",
     "text": [
      "Exception in thread Thread-17:\n",
      "Traceback (most recent call last):\n",
      "  File \"C:\\Users\\gleisson.santos\\Anaconda3\\lib\\threading.py\", line 973, in _bootstrap_inner\n",
      "    self.run()\n",
      "  File \"C:\\Users\\gleisson.santos\\Anaconda3\\lib\\threading.py\", line 910, in run\n",
      "    self._target(*self._args, **self._kwargs)\n",
      "  File \"C:\\Users\\gleisson.santos\\Desktop\\2 - Projetos Python\\Projeto #1 - Automção SCIWEB\\Projeto #5 - Extrada de planilha\\funcoes.py\", line 121, in definitiva\n",
      "    funcoes.trocar_localidade(\"900\", \"22\", driver)\n",
      "  File \"C:\\Users\\gleisson.santos\\Desktop\\2 - Projetos Python\\Projeto #1 - Automção SCIWEB\\Projeto #5 - Extrada de planilha\\funcoes.py\", line 45, in trocar_localidade\n",
      "    driver.find_element(by=By.ID, value=\"form-filtroAcss-solicitacaoLocalidadeId-j_idt198-cb-input\").click()\n",
      "  File \"C:\\Users\\gleisson.santos\\Anaconda3\\lib\\site-packages\\selenium\\webdriver\\remote\\webelement.py\", line 81, in click\n",
      "    self._execute(Command.CLICK_ELEMENT)\n",
      "  File \"C:\\Users\\gleisson.santos\\Anaconda3\\lib\\site-packages\\selenium\\webdriver\\remote\\webelement.py\", line 740, in _execute\n",
      "    return self._parent.execute(command, params)\n",
      "  File \"C:\\Users\\gleisson.santos\\Anaconda3\\lib\\site-packages\\selenium\\webdriver\\remote\\webdriver.py\", line 430, in execute\n",
      "    self.error_handler.check_response(response)\n",
      "  File \"C:\\Users\\gleisson.santos\\Anaconda3\\lib\\site-packages\\selenium\\webdriver\\remote\\errorhandler.py\", line 247, in check_response\n",
      "    raise exception_class(message, screen, stacktrace)\n",
      "selenium.common.exceptions.ElementClickInterceptedException: Message: element click intercepted: Element <input id=\"form-filtroAcss-solicitacaoLocalidadeId-j_idt198-cb-input\" type=\"text\" name=\"form-filtroAcss-solicitacaoLocalidadeId-j_idt198-cb-input\" value=\"700\" style=\"width: 75px\" donotfirechangeevent=\"false\"> is not clickable at point (310, 293). Other element would receive the click: <div id=\"j_idt24_modal\" class=\"ui-widget-overlay\" style=\"width: 825px; height: 740px; z-index: 1000;\"></div>\n",
      "  (Session info: chrome=103.0.5060.134)\n",
      "Stacktrace:\n",
      "Backtrace:\n",
      "\tOrdinal0 [0x00465FD3+2187219]\n",
      "\tOrdinal0 [0x003FE6D1+1763025]\n",
      "\tOrdinal0 [0x00313E78+802424]\n",
      "\tOrdinal0 [0x0034834B+1016651]\n",
      "\tOrdinal0 [0x00346318+1008408]\n",
      "\tOrdinal0 [0x0034401B+999451]\n",
      "\tOrdinal0 [0x00342D69+994665]\n",
      "\tOrdinal0 [0x003389B3+952755]\n",
      "\tOrdinal0 [0x0035CB8C+1100684]\n",
      "\tOrdinal0 [0x00338394+951188]\n",
      "\tOrdinal0 [0x0035CDA4+1101220]\n",
      "\tOrdinal0 [0x0036CFC2+1167298]\n",
      "\tOrdinal0 [0x0035C9A6+1100198]\n",
      "\tOrdinal0 [0x00336F80+946048]\n",
      "\tOrdinal0 [0x00337E76+949878]\n",
      "\tGetHandleVerifier [0x007090C2+2721218]\n",
      "\tGetHandleVerifier [0x006FAAF0+2662384]\n",
      "\tGetHandleVerifier [0x004F137A+526458]\n",
      "\tGetHandleVerifier [0x004F0416+522518]\n",
      "\tOrdinal0 [0x00404EAB+1789611]\n",
      "\tOrdinal0 [0x004097A8+1808296]\n",
      "\tOrdinal0 [0x00409895+1808533]\n",
      "\tOrdinal0 [0x004126C1+1844929]\n",
      "\tBaseThreadInitThunk [0x7657FA29+25]\n",
      "\tRtlGetAppContainerNamedObjectPath [0x77CE7A9E+286]\n",
      "\tRtlGetAppContainerNamedObjectPath [0x77CE7A6E+238]\n",
      "\n"
     ]
    },
    {
     "name": "stdout",
     "output_type": "stream",
     "text": [
      "Sem chances!\n"
     ]
    },
    {
     "name": "stderr",
     "output_type": "stream",
     "text": [
      "Exception in thread Thread-13:\n",
      "Traceback (most recent call last):\n",
      "  File \"C:\\Users\\gleisson.santos\\Anaconda3\\lib\\threading.py\", line 973, in _bootstrap_inner\n",
      "    self.run()\n",
      "  File \"C:\\Users\\gleisson.santos\\Anaconda3\\lib\\threading.py\", line 910, in run\n",
      "    self._target(*self._args, **self._kwargs)\n",
      "  File \"C:\\Users\\gleisson.santos\\Desktop\\2 - Projetos Python\\Projeto #1 - Automção SCIWEB\\Projeto #5 - Extrada de planilha\\funcoes.py\", line 121, in definitiva\n",
      "    funcoes.trocar_localidade(\"900\", \"22\", driver)\n",
      "  File \"C:\\Users\\gleisson.santos\\Desktop\\2 - Projetos Python\\Projeto #1 - Automção SCIWEB\\Projeto #5 - Extrada de planilha\\funcoes.py\", line 45, in trocar_localidade\n",
      "    driver.find_element(by=By.ID, value=\"form-filtroAcss-solicitacaoLocalidadeId-j_idt198-cb-input\").click()\n",
      "  File \"C:\\Users\\gleisson.santos\\Anaconda3\\lib\\site-packages\\selenium\\webdriver\\remote\\webelement.py\", line 81, in click\n",
      "    self._execute(Command.CLICK_ELEMENT)\n",
      "  File \"C:\\Users\\gleisson.santos\\Anaconda3\\lib\\site-packages\\selenium\\webdriver\\remote\\webelement.py\", line 740, in _execute\n",
      "    return self._parent.execute(command, params)\n",
      "  File \"C:\\Users\\gleisson.santos\\Anaconda3\\lib\\site-packages\\selenium\\webdriver\\remote\\webdriver.py\", line 430, in execute\n",
      "    self.error_handler.check_response(response)\n",
      "  File \"C:\\Users\\gleisson.santos\\Anaconda3\\lib\\site-packages\\selenium\\webdriver\\remote\\errorhandler.py\", line 247, in check_response\n",
      "    raise exception_class(message, screen, stacktrace)\n",
      "selenium.common.exceptions.ElementClickInterceptedException: Message: element click intercepted: Element <input id=\"form-filtroAcss-solicitacaoLocalidadeId-j_idt198-cb-input\" type=\"text\" name=\"form-filtroAcss-solicitacaoLocalidadeId-j_idt198-cb-input\" value=\"700\" style=\"width: 75px\" donotfirechangeevent=\"false\"> is not clickable at point (47, 194). Other element would receive the click: <div id=\"j_idt24_modal\" class=\"ui-widget-overlay\" style=\"width: 825px; height: 631px; z-index: 1000;\"></div>\n",
      "  (Session info: chrome=103.0.5060.134)\n",
      "Stacktrace:\n",
      "Backtrace:\n",
      "\tOrdinal0 [0x00465FD3+2187219]\n",
      "\tOrdinal0 [0x003FE6D1+1763025]\n",
      "\tOrdinal0 [0x00313E78+802424]\n",
      "\tOrdinal0 [0x0034834B+1016651]\n",
      "\tOrdinal0 [0x00346318+1008408]\n",
      "\tOrdinal0 [0x0034401B+999451]\n",
      "\tOrdinal0 [0x00342D69+994665]\n",
      "\tOrdinal0 [0x003389B3+952755]\n",
      "\tOrdinal0 [0x0035CB8C+1100684]\n",
      "\tOrdinal0 [0x00338394+951188]\n",
      "\tOrdinal0 [0x0035CDA4+1101220]\n",
      "\tOrdinal0 [0x0036CFC2+1167298]\n",
      "\tOrdinal0 [0x0035C9A6+1100198]\n",
      "\tOrdinal0 [0x00336F80+946048]\n",
      "\tOrdinal0 [0x00337E76+949878]\n",
      "\tGetHandleVerifier [0x007090C2+2721218]\n",
      "\tGetHandleVerifier [0x006FAAF0+2662384]\n",
      "\tGetHandleVerifier [0x004F137A+526458]\n",
      "\tGetHandleVerifier [0x004F0416+522518]\n",
      "\tOrdinal0 [0x00404EAB+1789611]\n",
      "\tOrdinal0 [0x004097A8+1808296]\n",
      "\tOrdinal0 [0x00409895+1808533]\n",
      "\tOrdinal0 [0x004126C1+1844929]\n",
      "\tBaseThreadInitThunk [0x7657FA29+25]\n",
      "\tRtlGetAppContainerNamedObjectPath [0x77CE7A9E+286]\n",
      "\tRtlGetAppContainerNamedObjectPath [0x77CE7A6E+238]\n",
      "\n"
     ]
    },
    {
     "name": "stdout",
     "output_type": "stream",
     "text": [
      "Sem chances!\n",
      "Sem chances!\n",
      "Sem chances!\n",
      "Sem chances!\n",
      "Sem chances!\n"
     ]
    }
   ],
   "source": [
    "# Importação padrão para utilizar o Selenium\n",
    "import funcoes\n",
    "import threading\n",
    "\n",
    "\n",
    "filtro = [\n",
    "    \"form-filtroAcss-dlgFilterPrefs-tableUser-0-j_idt349\",\n",
    "    \"form-filtroAcss-dlgFilterPrefs-tableUser-1-j_idt349\",\n",
    "    \"form-filtroAcss-dlgFilterPrefs-tableUser-7-j_idt349\",\n",
    "    \"form-filtroAcss-dlgFilterPrefs-tableUser-8-j_idt349\",\n",
    "    \"form-filtroAcss-dlgFilterPrefs-tableUser-9-j_idt349\",\n",
    "    ]\n",
    "data = funcoes.gerar_datas()\n",
    "\n",
    "x = [\n",
    "    threading.Thread(target=funcoes.definitiva, args=[filtro[0], data]),\n",
    "    threading.Thread(target=funcoes.definitiva, args=[filtro[1], data]),\n",
    "    threading.Thread(target=funcoes.definitiva, args=[filtro[2], data]),\n",
    "    threading.Thread(target=funcoes.definitiva, args=[filtro[3], data]),\n",
    "    threading.Thread(target=funcoes.definitiva, args=[filtro[4], data])\n",
    "     ]\n",
    "i = 0\n",
    "\n",
    "x[0].start()\n",
    "\n",
    "x[1].start()\n",
    "\n",
    "x[2].start()\n",
    "\n",
    "x[3].start()\n",
    "\n",
    "x[4].start()\n"
   ]
  }
 ],
 "metadata": {
  "kernelspec": {
   "display_name": "Python 3 (ipykernel)",
   "language": "python",
   "name": "python3"
  },
  "language_info": {
   "codemirror_mode": {
    "name": "ipython",
    "version": 3
   },
   "file_extension": ".py",
   "mimetype": "text/x-python",
   "name": "python",
   "nbconvert_exporter": "python",
   "pygments_lexer": "ipython3",
   "version": "3.9.7"
  }
 },
 "nbformat": 4,
 "nbformat_minor": 5
}
