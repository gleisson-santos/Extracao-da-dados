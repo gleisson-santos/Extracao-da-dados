{
 "cells": [
  {
   "cell_type": "code",
   "execution_count": 2,
   "id": "a2e266f9",
   "metadata": {},
   "outputs": [],
   "source": [
    "from selenium import webdriver\n",
    "from selenium.webdriver.common.keys import Keys\n",
    "from selenium.webdriver.common.by import By\n",
    "from selenium.webdriver.chrome.service import Service\n",
    "from selenium.webdriver.support.ui import WebDriverWait\n",
    "from selenium.webdriver.support import expected_conditions as EC\n",
    "from webdriver_manager.chrome import ChromeDriverManager\n",
    "import time\n",
    "#import funcoes\n",
    "import PySimpleGUI as sg\n",
    "\n"
   ]
  },
  {
   "cell_type": "code",
   "execution_count": 3,
   "id": "ad005787",
   "metadata": {},
   "outputs": [
    {
     "name": "stdout",
     "output_type": "stream",
     "text": [
      "\n"
     ]
    },
    {
     "name": "stderr",
     "output_type": "stream",
     "text": [
      "[WDM] - ====== WebDriver manager ======\n",
      "[WDM] - Current google-chrome version is 110.0.5481\n",
      "[WDM] - Get LATEST chromedriver version for 110.0.5481 google-chrome\n",
      "[WDM] - Driver [C:\\Users\\gleisson.santos\\.wdm\\drivers\\chromedriver\\win32\\110.0.5481.77\\chromedriver.exe] found in cache\n",
      "C:\\Users\\GLEISS~1.SAN\\AppData\\Local\\Temp/ipykernel_15840/2374587953.py:1: DeprecationWarning: executable_path has been deprecated, please pass in a Service object\n",
      "  driver = webdriver.Chrome(ChromeDriverManager().install())\n"
     ]
    }
   ],
   "source": [
    "driver = webdriver.Chrome(ChromeDriverManager().install())\n",
    "chrome_options = webdriver.ChromeOptions()"
   ]
  },
  {
   "cell_type": "code",
   "execution_count": 27,
   "id": "ca61fe55",
   "metadata": {},
   "outputs": [],
   "source": [
    "\n",
    "def esperar_clicavel(variavel, driver):\n",
    "    wait = WebDriverWait(driver, 10)  # defino uma variavel com a propriedade de esperar um determinado tempo\n",
    "    wait.until(EC.element_to_be_clickable((By.ID, variavel)))  # aqui aplico a condição da qual espero"
   ]
  },
  {
   "cell_type": "code",
   "execution_count": 26,
   "id": "0f35f95b",
   "metadata": {},
   "outputs": [],
   "source": [
    "\n",
    "def abrir_filtro(filtro, driver):\n",
    "    esperar_clicavel(\"form-filtroAcss-btnOpenDlgPrefs\", driver)\n",
    "    driver.find_element(by=By.ID, value=\"form-filtroAcss-btnOpenDlgPrefs\").click()\n",
    "    esperar_clicavel(filtro, driver)\n",
    "    driver.find_element(by=By.ID, value=filtro).click()"
   ]
  },
  {
   "cell_type": "code",
   "execution_count": 6,
   "id": "d043285f",
   "metadata": {},
   "outputs": [],
   "source": [
    "\n",
    "def filtro_data(data1, data2, driver):\n",
    "    time.sleep(1)\n",
    "    driver.find_element(by=By.ID, value=\"form-filtroAcss-dataId-dataTipo-beginDate\").clear()\n",
    "    time.sleep(1)\n",
    "    driver.find_element(by=By.ID, value=\"form-filtroAcss-dataId-dataTipo-beginDate\").click()\n",
    "    time.sleep(1)\n",
    "    driver.find_element(by=By.ID, value=\"form-filtroAcss-dataId-dataTipo-beginDate\").send_keys(data1)\n",
    "    time.sleep(1)\n",
    "    driver.find_element(by=By.ID, value=\"form-filtroAcss-dataId-dataTipo-endDate\").clear()\n",
    "    time.sleep(1)\n",
    "    driver.find_element(by=By.ID, value=\"form-filtroAcss-dataId-dataTipo-endDate\").click()\n",
    "    time.sleep(1)\n",
    "    driver.find_element(by=By.ID, value=\"form-filtroAcss-dataId-dataTipo-endDate\").send_keys(data2)\n",
    "    time.sleep(1)"
   ]
  },
  {
   "cell_type": "code",
   "execution_count": 7,
   "id": "4ad34f61",
   "metadata": {},
   "outputs": [],
   "source": [
    "\n",
    "    \n",
    "def trocar_localidade(localidade, bairro, driver):\n",
    "    esperar_clicavel(\"form-filtroAcss-toolbox-btn-search\", driver)\n",
    "    time.sleep(1)\n",
    "    driver.find_element(by=By.ID, value=\"form-filtroAcss-solicitacaoLocalidadeId-j_idt198-cb-input\").clear()\n",
    "    time.sleep(1)\n",
    "    driver.find_element(by=By.ID, value=\"form-filtroAcss-solicitacaoLocalidadeId-j_idt198-cb-input\").click()\n",
    "    time.sleep(1)\n",
    "    driver.find_element(by=By.ID, value=\"form-filtroAcss-solicitacaoLocalidadeId-j_idt198-cb-input\").send_keys(localidade)\n",
    "    esperar_clicavel(\"form-filtroAcss-toolbox-btn-search\", driver)\n",
    "    time.sleep(1)\n",
    "    driver.find_element(by=By.ID, value=\"form-filtroAcss-solicitacaoBairroId-j_idt205-bairro-input\").clear()\n",
    "    time.sleep(2)\n",
    "    driver.find_element(by=By.ID, value=\"form-filtroAcss-solicitacaoBairroId-j_idt205-bairro-input\").click()\n",
    "    time.sleep(1)\n",
    "    driver.find_element(by=By.ID, value=\"form-filtroAcss-solicitacaoBairroId-j_idt205-bairro-input\").send_keys(bairro)"
   ]
  },
  {
   "cell_type": "code",
   "execution_count": 8,
   "id": "31beef00",
   "metadata": {},
   "outputs": [],
   "source": [
    "def pesq_exp(driver):\n",
    "    esperar_clicavel(\"form-filtroAcss-toolbox-btn-search\", driver)\n",
    "    driver.find_element(by=By.ID, value=\"form-filtroAcss-toolbox-btn-search\").click()\n",
    "    time.sleep(2)\n",
    "    driver.find_element(by=By.ID, value=\"form-filtroAcss-toolbox-btn-search\").click()\n",
    "    time.sleep(2)\n",
    "\n",
    "    try:\n",
    "        driver.find_element(by=By.ID, value=\"form-grid-grid-exportBtn-exportarxls\").click()\n",
    "        time.sleep(1)\n",
    "    except: print(\"Sem chances!\")\n"
   ]
  },
  {
   "cell_type": "code",
   "execution_count": 9,
   "id": "7664c393",
   "metadata": {},
   "outputs": [],
   "source": [
    "\n",
    "def gerar_datas():\n",
    "    data0 = input(\"Por favor digite o mes/ano desejado(mm/aaaa)\")\n",
    "    data0 = data0.split(\"/\")\n",
    "\n",
    "    if data0[0] == \"01\":\n",
    "\n",
    "        data = [\"26/\" + \"12/\" + str(int(data0[1]) - 1),\n",
    "                \"10/\" + data0[0] + \"/\" + str(int(data0[1])),\n",
    "                \"11/\" + data0[0] + \"/\" + str(int(data0[1])),\n",
    "                \"25/\" + data0[0] + \"/\" + str(int(data0[1])) ]\n",
    "\n",
    "    else:\n",
    "        data = [\"26/\" + str(int(data0[0]) - 1).rjust(2, \"0\") + \"/\" + data0[1],\n",
    "                \"10/\" + data0[0] + \"/\" + str(int(data0[1])),\n",
    "                \"11/\" + data0[0] + \"/\" + str(int(data0[1])),\n",
    "                \"25/\" + data0[0] + \"/\" + str(int(data0[1]))\n",
    "                ]\n",
    "    return data"
   ]
  },
  {
   "cell_type": "code",
   "execution_count": 29,
   "id": "4f204bb3",
   "metadata": {},
   "outputs": [],
   "source": [
    "\n",
    "def definitiva(filtro, data):\n",
    "    # Declaração de Variaveis\n",
    "    user = \"t034183\"\n",
    "    passw = \"CNB@2022\"\n",
    "\n",
    "    driver = webdriver.Chrome(ChromeDriverManager().install())\n",
    "    chrome_options = webdriver.ChromeOptions()\n",
    "\n",
    "    driver.get(\"http://sciweb.embasanet.ba.gov.br/sci-web/\")\n",
    "\n",
    "    # Coletar a informação da tag aleatoria gerada pelo SCI\n",
    "    randomtag = driver.find_element(by=By.ID, value=\"random-tag\").get_attribute('value')\n",
    "    driver.find_element(by=By.ID, value=\"loginForm-usuario-{randomtag}\".format(randomtag=randomtag)).send_keys(user)\n",
    "    driver.find_element(by=By.ID, value=\"loginForm-senha-{randomtag}\".format(randomtag=randomtag)).send_keys(passw)\n",
    "    driver.find_element(by=By.ID, value=\"loginForm-submit\").click()\n",
    "\n",
    "    # Neste bloco é feito a seleção de qual tela desejo abrir, no caso é a consulta geral\n",
    "    driver.find_element(by=By.ID, value=\"arvoreSearch\").send_keys(\"gera\")\n",
    "\n",
    "    wait = WebDriverWait(driver, 10)  # defino uma variavel com a propriedade de esperar um determinado tempo\n",
    "    element = wait.until(EC.element_to_be_clickable((By.ID, 'CRSS_anchor')))  # aqui aplico a condição da qual espero\n",
    "\n",
    "    driver.find_element(by=By.ID, value=\"CRSS_anchor\").click()\n",
    "    driver.switch_to.frame(\"frame-content\")\n",
    "      \n",
    "    funcoes.abrir_filtro(filtro, driver)\n",
    "    \n",
    "    \n",
    "    \n",
    "\n",
    "    funcoes.filtro_data(data[0], data[1], driver)\n",
    "    funcoes.trocar_localidade(\"700\", \"0\", driver)\n",
    "    funcoes.pesq_exp(driver)\n",
    "\n",
    "    funcoes.trocar_localidade(\"900\", \"22\", driver)\n",
    "    funcoes.pesq_exp(driver)\n",
    "\n",
    "    funcoes.filtro_data(data[2], data[3], driver)\n",
    "    funcoes.trocar_localidade(\"700\", \"0\", driver)\n",
    "    funcoes.pesq_exp(driver)\n",
    "\n",
    "    funcoes.trocar_localidade(\"900\", \"22\", driver)\n",
    "    funcoes.pesq_exp(driver)\n",
    "    time.sleep(10)"
   ]
  },
  {
   "cell_type": "code",
   "execution_count": 12,
   "id": "525c928c",
   "metadata": {},
   "outputs": [],
   "source": [
    "user = \"t034183\"\n",
    "passw = \"CNB@2022\"\n",
    "\n",
    "driver.get(\"http://sciweb.embasanet.ba.gov.br/sci-web/\")\n",
    "time.sleep(1)\n",
    "# Coletar a informação da tag aleatoria gerada pelo SCI\n",
    "randomtag = driver.find_element(by=By.ID, value=\"random-tag\").get_attribute('value')\n",
    "driver.find_element(by=By.ID, value=\"loginForm-usuario-{randomtag}\".format(randomtag=randomtag)).send_keys(user)\n",
    "driver.find_element(by=By.ID, value=\"loginForm-senha-{randomtag}\".format(randomtag=randomtag)).send_keys(passw)\n",
    "driver.find_element(by=By.ID, value=\"loginForm-submit\").click()\n",
    "time.sleep(1)"
   ]
  },
  {
   "cell_type": "code",
   "execution_count": 13,
   "id": "6b30f3ed",
   "metadata": {},
   "outputs": [],
   "source": [
    "# Neste bloco é feito a seleção de qual tela desejo abrir, no caso é a consulta geral\n",
    "driver.find_element(by=By.ID, value=\"arvoreSearch\").send_keys(\"gera\")\n",
    "\n",
    "wait = WebDriverWait(driver, 10)  # defino uma variavel com a propriedade de esperar um determinado tempo\n",
    "element = wait.until(EC.element_to_be_clickable((By.ID, 'CRSS_anchor')))  # aqui aplico a condição da qual espero\n",
    "\n",
    "driver.find_element(by=By.ID, value=\"CRSS_anchor\").click()\n",
    "driver.switch_to.frame(\"frame-content\")"
   ]
  },
  {
   "cell_type": "code",
   "execution_count": 28,
   "id": "8a17f114",
   "metadata": {},
   "outputs": [
    {
     "ename": "NameError",
     "evalue": "name 'filtro' is not defined",
     "output_type": "error",
     "traceback": [
      "\u001b[1;31m---------------------------------------------------------------------------\u001b[0m",
      "\u001b[1;31mNameError\u001b[0m                                 Traceback (most recent call last)",
      "\u001b[1;32mC:\\Users\\GLEISS~1.SAN\\AppData\\Local\\Temp/ipykernel_15840/323916102.py\u001b[0m in \u001b[0;36m<module>\u001b[1;34m\u001b[0m\n\u001b[1;32m----> 1\u001b[1;33m \u001b[0mabrir_filtro\u001b[0m\u001b[1;33m(\u001b[0m\u001b[0mfiltro\u001b[0m\u001b[1;33m,\u001b[0m \u001b[0mdriver\u001b[0m\u001b[1;33m)\u001b[0m\u001b[1;33m\u001b[0m\u001b[1;33m\u001b[0m\u001b[0m\n\u001b[0m",
      "\u001b[1;31mNameError\u001b[0m: name 'filtro' is not defined"
     ]
    }
   ],
   "source": [
    "abrir_filtro(filtro, driver)"
   ]
  }
 ],
 "metadata": {
  "kernelspec": {
   "display_name": "Python 3 (ipykernel)",
   "language": "python",
   "name": "python3"
  },
  "language_info": {
   "codemirror_mode": {
    "name": "ipython",
    "version": 3
   },
   "file_extension": ".py",
   "mimetype": "text/x-python",
   "name": "python",
   "nbconvert_exporter": "python",
   "pygments_lexer": "ipython3",
   "version": "3.9.7"
  }
 },
 "nbformat": 4,
 "nbformat_minor": 5
}
